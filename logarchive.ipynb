{
 "cells": [
  {
   "cell_type": "code",
   "execution_count": null,
   "metadata": {},
   "outputs": [],
   "source": [
    "!pip install pyarrow \n",
    "!pip install sqlparse\n",
    "!pip uninstall --yes autoai-libs tensorflow-text numba numpy\n",
    "!pip install numpy==1.22.4\n",
    "!pip install --upgrade ibmcloudsql"
   ]
  },
  {
   "cell_type": "code",
   "execution_count": null,
   "metadata": {},
   "outputs": [],
   "source": [
    "# REPLACE THIS SECTION WITH THE OUTPUT FROM:\n",
    "# terraform output jupyter_notebook_configuration_python\n",
    "#apikey='your apikey'\n",
    "#instancecrn='your crn to the data engine instance'\n",
    "#dataengineurl='cos://s3.<region>.cloud-object-storage.appdomain.cloud/logarchive-data-engine-001'\n",
    "#logsurl=\"cos://s3.us-south.cloud-object-storage.appdomain.cloud/logarchive-001\""
   ]
  },
  {
   "cell_type": "code",
   "execution_count": null,
   "metadata": {},
   "outputs": [],
   "source": [
    "import ibmcloudsql\n",
    "import sqlparse \n",
    "from pygments import highlight\n",
    "from pygments.lexers import get_lexer_by_name\n",
    "from pygments.formatters import HtmlFormatter, Terminal256Formatter\n",
    "lexer = get_lexer_by_name(\"sql\", stripall=True)\n",
    "formatter = Terminal256Formatter(style='vim')"
   ]
  },
  {
   "cell_type": "code",
   "execution_count": null,
   "metadata": {},
   "outputs": [],
   "source": [
    "sqlClient = ibmcloudsql.SQLQuery(apikey, instancecrn, client_info='notebook', target_cos_url=dataengineurl, max_concurrent_jobs=4, max_tries=3 )\n",
    "#sqlClient.configure()  # use this if you want to change the API key or Data Engine CRN later\n",
    "    \n",
    "sqlClient.logon()\n",
    "print('\\nYour Data Engine web console link:\\n')\n",
    "sqlClient.sql_ui_link()"
   ]
  },
  {
   "cell_type": "code",
   "execution_count": null,
   "metadata": {},
   "outputs": [],
   "source": [
    "def sql_format(sql):\n",
    "    formatted_sql = sqlparse.format(sql, reindent=True, indent_tabs=True, keyword_case='upper')\n",
    "    return highlight(formatted_sql, lexer, formatter)\n",
    "\n",
    "def sql_format_print(sql):\n",
    "    print('\\nYour SQL statement is:\\n')\n",
    "    print(sql_format(sql))\n",
    "\n",
    "def sql_into(sql, intourl):\n",
    "    if \" INTO \" not in sql:\n",
    "        return sql + f' INTO {intourl} STORED AS JSON'\n",
    "    return sql\n",
    "\n",
    "def sql_r(sql):\n",
    "    global dataengineurl\n",
    "    sql=sql_into(sql, dataengineurl)\n",
    "    sql_format_print(sql)\n",
    "    result_df = sqlClient.run_sql(sql)\n",
    "    print(result_df.head(10))\n",
    "    return result_df"
   ]
  },
  {
   "cell_type": "code",
   "execution_count": null,
   "metadata": {},
   "outputs": [],
   "source": [
    "# get the oldest 10 records\n",
    "result_df = sql_r(f'SELECT year, month, _source__line FROM FLATTEN({logsurl} STORED AS JSON) LIMIT 10')\n",
    "result_df.head(10)"
   ]
  },
  {
   "cell_type": "code",
   "execution_count": null,
   "metadata": {},
   "outputs": [],
   "source": [
    "# find all reecords where the outcome was not a success, note you may not have any of these\n",
    "result_df = sql_r(f'SELECT year, month, _source__line FROM FLATTEN({logsurl} STORED AS JSON) WHERE _source_outcome NOT REGEXP \"success\" LIMIT 10')\n",
    "result_df.head(10)"
   ]
  }
 ],
 "metadata": {
  "kernelspec": {
   "display_name": "Python 3.9",
   "language": "python",
   "name": "python3"
  },
  "language_info": {
   "codemirror_mode": {
    "name": "ipython",
    "version": 3
   },
   "file_extension": ".py",
   "mimetype": "text/x-python",
   "name": "python",
   "nbconvert_exporter": "python",
   "pygments_lexer": "ipython3",
   "version": "3.9.12"
  }
 },
 "nbformat": 4,
 "nbformat_minor": 1
}
